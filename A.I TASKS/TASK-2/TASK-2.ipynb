{
 "cells": [
  {
   "cell_type": "code",
   "execution_count": 2,
   "metadata": {},
   "outputs": [],
   "source": [
    "#STEP-1: Loading the dataset into pandas dataframe\n",
    "import pandas as pd\n",
    "\n",
    "df = pd.read_csv(r\"\\loan_prediction.csv\") # before the file name enter the path to the folder in which the file is present"
   ]
  },
  {
   "cell_type": "code",
   "execution_count": null,
   "metadata": {},
   "outputs": [],
   "source": [
    "#STEP-2:Inspecting the data\n",
    "#STEP 2.1: Displaying the first 5 rows of the dataframe\n",
    "df.head()"
   ]
  },
  {
   "cell_type": "code",
   "execution_count": null,
   "metadata": {},
   "outputs": [],
   "source": [
    "#STEP 2.2: Displaying the last 5 rows of the dataframe\n",
    "df.tail()"
   ]
  },
  {
   "cell_type": "code",
   "execution_count": null,
   "metadata": {},
   "outputs": [],
   "source": [
    "#STEP-3: Handling missing values\n",
    "#STEP 3.1: finding all the names of columns having missing values\n",
    "column = df.columns[df.isnull().any()]\n",
    "print(column)"
   ]
  },
  {
   "cell_type": "code",
   "execution_count": null,
   "metadata": {},
   "outputs": [],
   "source": [
    "#STEP 3.2: finding the number of missing values in each column\n",
    "values = df[column].isnull().sum()\n",
    "print(values)"
   ]
  },
  {
   "cell_type": "code",
   "execution_count": null,
   "metadata": {},
   "outputs": [],
   "source": [
    "#STEP 4: To find all the non-numerical values\n",
    "nnc = df.select_dtypes(exclude=['number']).columns\n",
    "print(nnc)"
   ]
  },
  {
   "cell_type": "code",
   "execution_count": null,
   "metadata": {},
   "outputs": [],
   "source": [
    "#STEP-5: Filtering\n",
    "#STEP-5.1: Find all the loan ids of people who are not graduates.\n",
    "ungrad_id = df[df['Education'] == 'Not Graduate']['Loan_ID']\n",
    "print(ungrad_id)"
   ]
  },
  {
   "cell_type": "code",
   "execution_count": null,
   "metadata": {},
   "outputs": [],
   "source": [
    "#STEP-5.2: Find all the loan ids of people who have an applicant income (ac) less than 5000\n",
    "ac_id = df[df['ApplicantIncome'] < 5000]['Loan_ID']\n",
    "print(ac_id)"
   ]
  },
  {
   "cell_type": "code",
   "execution_count": null,
   "metadata": {},
   "outputs": [],
   "source": [
    "#STEP 5.3: Find all the loan ids where the person is unmarried and has dependents '3+'.\n",
    "unmarried_ids = df[(df['Married'] == 'No') & (df['Dependents'] == '3+')]['Loan_ID']\n",
    "print(unmarried_ids)"
   ]
  },
  {
   "cell_type": "code",
   "execution_count": null,
   "metadata": {},
   "outputs": [],
   "source": [
    "#STEP 5.4: Print all the rows which have dpendents '3+'.\n",
    "dependents = df[df['Dependents'] == '3+']\n",
    "print(dependents)"
   ]
  },
  {
   "cell_type": "code",
   "execution_count": null,
   "metadata": {},
   "outputs": [],
   "source": [
    "#STEP 5.5: Drop the rows which have null/missing values.\n",
    "clear_rows = df.dropna()\n",
    "print(clear_rows)"
   ]
  },
  {
   "cell_type": "code",
   "execution_count": null,
   "metadata": {},
   "outputs": [],
   "source": [
    "#STEP-6: DROP UNWANTED COLUMNS \n",
    "#STEP 6.1: Drop the column 'Loan_ID' from the dataframe.  \n",
    "drop_columns = clear_rows.drop(columns=['Loan_ID'])\n",
    "print(drop_columns)"
   ]
  },
  {
   "cell_type": "code",
   "execution_count": null,
   "metadata": {},
   "outputs": [],
   "source": []
  },
  {
   "cell_type": "code",
   "execution_count": null,
   "metadata": {},
   "outputs": [],
   "source": []
  }
 ],
 "metadata": {
  "kernelspec": {
   "display_name": "Python 3",
   "language": "python",
   "name": "python3"
  },
  "language_info": {
   "codemirror_mode": {
    "name": "ipython",
    "version": 3
   },
   "file_extension": ".py",
   "mimetype": "text/x-python",
   "name": "python",
   "nbconvert_exporter": "python",
   "pygments_lexer": "ipython3",
   "version": "3.12.5"
  }
 },
 "nbformat": 4,
 "nbformat_minor": 2
}
